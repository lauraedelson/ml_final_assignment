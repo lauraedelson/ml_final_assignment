{
 "cells": [
  {
   "cell_type": "code",
   "execution_count": 333,
   "metadata": {},
   "outputs": [],
   "source": [
    "%matplotlib inline\n",
    "import matplotlib.pyplot as plt\n",
    "import numpy as np\n",
    "import pandas as pd\n",
    "import scipy as sc\n",
    "import math\n",
    "import copy\n",
    "import datetime\n",
    "from sklearn.feature_selection import SelectKBest, f_regression, mutual_info_regression, RFE\n",
    "from sklearn.linear_model import LogisticRegression, LinearRegression\n",
    "from sklearn.model_selection import cross_val_score, train_test_split\n",
    "from sklearn.neural_network import MLPRegressor\n",
    "from sklearn.svm import SVR\n",
    "from sklearn import tree\n",
    "from sklearn import metrics\n",
    "import warnings\n",
    "warnings.filterwarnings('ignore')\n"
   ]
  },
  {
   "cell_type": "code",
   "execution_count": 334,
   "metadata": {},
   "outputs": [],
   "source": [
    "############################################\n",
    "# LOAD RAW DATA\n",
    "############################################\n",
    "\n",
    "all_df = pd.read_csv(\"flights_train.csv\")\n",
    "d = {'ARR_DELAY': all_df['ARR_DELAY']}\n",
    "all_y = pd.DataFrame(data=d)\n"
   ]
  },
  {
   "cell_type": "code",
   "execution_count": 335,
   "metadata": {},
   "outputs": [],
   "source": [
    "############################################\n",
    "# PREP DATA - DROP CATEGORICAL COLS\n",
    "############################################\n",
    "\n",
    "day_of_year = [datetime.datetime.strptime(date_str, '%Y-%m-%d').timetuple().tm_yday for date_str in validation_df['FL_DATE'] ]\n",
    "month = [datetime.datetime.strptime(date_str, '%Y-%m-%d').timetuple().tm_mon for date_str in validation_df['FL_DATE'] ]\n",
    "all_x = all_df.drop(['UID','FL_NUM','AIRLINE_ID','ORIGIN_CITY_NAME','DISTANCE', 'FL_DATE', 'DEST_CITY_NAME','ORIGIN_STATE_ABR','DEST_STATE_ABR', 'FIRST_DEP_TIME'], \n",
    "                 axis=1)  \n",
    "all_x['month'] = month\n",
    "all_x['day_of_year'] = day_of_year\n",
    "\n",
    "all_x = all_x.drop(['UNIQUE_CARRIER', 'ORIGIN', 'DEST', 'ORIGIN_CITY_MARKET_ID', 'DEST_CITY_MARKET_ID'], axis=1)\n"
   ]
  },
  {
   "cell_type": "code",
   "execution_count": 336,
   "metadata": {},
   "outputs": [],
   "source": [
    "############################################\n",
    "# DECIDE WHETHER TO RE-ADD CATEGORICAL COLS USING OHE\n",
    "############################################\n",
    "\n",
    "ohe = False\n",
    "if ohe:\n",
    "    carrier_ohe = pd.get_dummies(all_df['UNIQUE_CARRIER'])\n",
    "    carrier_ohe = carrier_ohe.astype('int64')\n",
    "    origin_ohe = pd.get_dummies(all_df['ORIGIN'])\n",
    "    origin_ohe = origin_ohe.astype('int64')\n",
    "    dest_ohe = pd.get_dummies(all_df['DEST'])\n",
    "    dest_ohe.rename(columns=lambda x: x+'_DEST', inplace=True)\n",
    "    dest_ohe = dest_ohe.astype('int64')\n",
    "    all_x = pd.concat([all_x, carrier_ohe, origin_ohe, dest_ohe], axis=1) \n",
    "    "
   ]
  },
  {
   "cell_type": "code",
   "execution_count": 337,
   "metadata": {},
   "outputs": [
    {
     "name": "stdout",
     "output_type": "stream",
     "text": [
      "<class 'pandas.core.frame.DataFrame'>\n",
      "RangeIndex: 4911 entries, 0 to 4910\n",
      "Data columns (total 9 columns):\n",
      "DAY_OF_WEEK            4911 non-null int64\n",
      "CRS_DEP_TIME           4911 non-null int64\n",
      "TAXI_OUT               4911 non-null int64\n",
      "TAXI_IN                4911 non-null int64\n",
      "ACTUAL_ELAPSED_TIME    4911 non-null int64\n",
      "DISTANCE_GROUP         4911 non-null int64\n",
      "ARR_DELAY              4911 non-null int64\n",
      "month                  4911 non-null int64\n",
      "day_of_year            4911 non-null int64\n",
      "dtypes: int64(9)\n",
      "memory usage: 345.4 KB\n"
     ]
    },
    {
     "data": {
      "text/html": [
       "<div>\n",
       "<style scoped>\n",
       "    .dataframe tbody tr th:only-of-type {\n",
       "        vertical-align: middle;\n",
       "    }\n",
       "\n",
       "    .dataframe tbody tr th {\n",
       "        vertical-align: top;\n",
       "    }\n",
       "\n",
       "    .dataframe thead th {\n",
       "        text-align: right;\n",
       "    }\n",
       "</style>\n",
       "<table border=\"1\" class=\"dataframe\">\n",
       "  <thead>\n",
       "    <tr style=\"text-align: right;\">\n",
       "      <th></th>\n",
       "      <th>DAY_OF_WEEK</th>\n",
       "      <th>CRS_DEP_TIME</th>\n",
       "      <th>TAXI_OUT</th>\n",
       "      <th>TAXI_IN</th>\n",
       "      <th>ACTUAL_ELAPSED_TIME</th>\n",
       "      <th>DISTANCE_GROUP</th>\n",
       "      <th>ARR_DELAY</th>\n",
       "      <th>month</th>\n",
       "      <th>day_of_year</th>\n",
       "    </tr>\n",
       "  </thead>\n",
       "  <tbody>\n",
       "    <tr>\n",
       "      <th>0</th>\n",
       "      <td>2</td>\n",
       "      <td>1020</td>\n",
       "      <td>11</td>\n",
       "      <td>8</td>\n",
       "      <td>373</td>\n",
       "      <td>11</td>\n",
       "      <td>-11</td>\n",
       "      <td>1</td>\n",
       "      <td>3</td>\n",
       "    </tr>\n",
       "    <tr>\n",
       "      <th>1</th>\n",
       "      <td>6</td>\n",
       "      <td>1220</td>\n",
       "      <td>13</td>\n",
       "      <td>9</td>\n",
       "      <td>183</td>\n",
       "      <td>5</td>\n",
       "      <td>1</td>\n",
       "      <td>1</td>\n",
       "      <td>28</td>\n",
       "    </tr>\n",
       "  </tbody>\n",
       "</table>\n",
       "</div>"
      ],
      "text/plain": [
       "   DAY_OF_WEEK  CRS_DEP_TIME  TAXI_OUT  TAXI_IN  ACTUAL_ELAPSED_TIME  \\\n",
       "0            2          1020        11        8                  373   \n",
       "1            6          1220        13        9                  183   \n",
       "\n",
       "   DISTANCE_GROUP  ARR_DELAY  month  day_of_year  \n",
       "0              11        -11      1            3  \n",
       "1               5          1      1           28  "
      ]
     },
     "execution_count": 337,
     "metadata": {},
     "output_type": "execute_result"
    }
   ],
   "source": [
    "############################################\n",
    "# SHOW SAMPLE DATA\n",
    "############################################\n",
    "all_x.info()\n",
    "all_x[0:2]\n"
   ]
  },
  {
   "cell_type": "code",
   "execution_count": 338,
   "metadata": {},
   "outputs": [],
   "source": [
    "############################################\n",
    "# CLEAN DATA\n",
    "############################################\n",
    "\n",
    "# choose method 1 or 2\n",
    "method = 1\n",
    "\n",
    "# METHOD 1\n",
    "# remove rows with label more than 's' standard deviations from mean\n",
    "# note: don't forget to set s!\n",
    "if method == 1:\n",
    "    \n",
    "    s = 1  # getting best results with s = 1\n",
    "    \n",
    "    y_mean = all_df['ARR_DELAY'].mean()\n",
    "    y_std = all_df['ARR_DELAY'].std()\n",
    "    y_max = y_mean + (s * y_std)\n",
    "    y_min = y_mean - (s * y_std)\n",
    "    \n",
    "    a = all_x['ARR_DELAY'] < y_max\n",
    "    b = all_x['ARR_DELAY'] > y_min\n",
    "    c = a & b\n",
    "    \n",
    "    all_x_clean = all_x[c]\n",
    "    d = {'ARR_DELAY': all_x_clean['ARR_DELAY']}\n",
    "    all_y = pd.DataFrame(data=d)\n",
    "    all_x_clean = all_x_clean.drop(['ARR_DELAY'], axis=1)\n",
    "\n",
    "\n",
    "# METHOD 2\n",
    "# select the k best features \n",
    "# note: currently, can choose ohe features, unless you don't include ohe\n",
    "# note: don't forget to set k!\n",
    "elif method == 2:\n",
    "\n",
    "    k = 5\n",
    "\n",
    "    all_x_temp = all_x.drop(['ARR_DELAY'], axis=1)\n",
    "    b = SelectKBest(mutual_info_regression, k=k).fit(all_x_temp, all_y)\n",
    "    b.get_support()\n",
    "    all_x_clean = b.transform(all_x_temp)\n",
    "\n",
    "\n",
    "# note: consider combining both methods\n"
   ]
  },
  {
   "cell_type": "code",
   "execution_count": 339,
   "metadata": {
    "scrolled": true
   },
   "outputs": [
    {
     "name": "stdout",
     "output_type": "stream",
     "text": [
      "<class 'pandas.core.frame.DataFrame'>\n",
      "<class 'pandas.core.frame.DataFrame'>\n"
     ]
    }
   ],
   "source": [
    "############################################\n",
    "# SPLIT INTO TRAINING/VALID/TEST\n",
    "############################################\n",
    "\n",
    "num_examples = all_x_clean.shape[0]\n",
    "\n",
    "# 80% train - 20% valid - 0% test\n",
    "percent_train = 0.8\n",
    "half = 0.5\n",
    "\n",
    "cutoff1 = int(num_examples * percent_train)\n",
    "cutoff2 = cutoff1 + int(num_examples * percent_valid)\n",
    "\n",
    "train_x, valid_x, train_y, valid_y = train_test_split(all_x_clean, all_y, test_size=percent_valid_test, random_state=42)\n",
    "#valid_x, test_x, valid_y, test_y = train_test_split(valid_x, valid_y, test_size=half, random_state=42)\n",
    "\n",
    "print(type(train_x))\n",
    "print(type(valid_y))\n",
    "\n",
    "# use .iloc[] to index\n",
    "#print(train_x.iloc[0])\n",
    "#print(valid_y.iloc[0])\n"
   ]
  },
  {
   "cell_type": "code",
   "execution_count": 340,
   "metadata": {},
   "outputs": [
    {
     "name": "stdout",
     "output_type": "stream",
     "text": [
      "Results with depth of 1:\n",
      "Mean-squared error WITHOUT cross-fold validation: 236.6361631753032\n",
      "Mean-squared error WITH cross-fold validation: 238.18388425580898\n",
      "Results with depth of 2:\n",
      "Mean-squared error WITHOUT cross-fold validation: 268.44487320837925\n",
      "Mean-squared error WITH cross-fold validation: 244.10974366101055\n",
      "Results with depth of 3:\n",
      "Mean-squared error WITHOUT cross-fold validation: 254.45093715545755\n",
      "Mean-squared error WITH cross-fold validation: 254.32534075618855\n",
      "Results with depth of 4:\n",
      "Mean-squared error WITHOUT cross-fold validation: 249.20231532524807\n",
      "Mean-squared error WITH cross-fold validation: 259.6478659791404\n",
      "Results with depth of 5:\n",
      "Mean-squared error WITHOUT cross-fold validation: 275.48235942668134\n",
      "Mean-squared error WITH cross-fold validation: 265.10980880560095\n",
      "Results with depth of 6:\n",
      "Mean-squared error WITHOUT cross-fold validation: 266.03583241455345\n",
      "Mean-squared error WITH cross-fold validation: 282.3355726295514\n",
      "Results with depth of 7:\n",
      "Mean-squared error WITHOUT cross-fold validation: 256.17034178610805\n",
      "Mean-squared error WITH cross-fold validation: 287.84870418839336\n",
      "Results with depth of 8:\n",
      "Mean-squared error WITHOUT cross-fold validation: 278.96747519294377\n",
      "Mean-squared error WITH cross-fold validation: 287.88630207044935\n",
      "Results with depth of 9:\n",
      "Mean-squared error WITHOUT cross-fold validation: 303.68412348401324\n",
      "Mean-squared error WITH cross-fold validation: 285.7159580551231\n",
      "Results with depth of 10:\n",
      "Mean-squared error WITHOUT cross-fold validation: 320.63340683572216\n",
      "Mean-squared error WITH cross-fold validation: 311.7172641832061\n"
     ]
    }
   ],
   "source": [
    "################################################\n",
    "# DECISION TREE\n",
    "################################################\n",
    "\n",
    "max_depth = 10\n",
    "folds = 10\n",
    "\n",
    "cross_fold = True\n",
    "\n",
    "for depth in range(1,max_depth+1):\n",
    "    print('Results with depth of '+str(depth)+':')\n",
    "    clf = tree.DecisionTreeClassifier(max_depth=depth)\n",
    "    clf = clf.fit(train_x, train_y)\n",
    "\n",
    "    y_hats = clf.predict(valid_x)\n",
    "    errs = []\n",
    "    for i in range(len(y_hats)):\n",
    "        errs.append((valid_y.iloc[i]['ARR_DELAY'] - y_hats[i])**2)\n",
    "    err = np.mean(errs)\n",
    "    print('Mean-squared error WITHOUT cross-fold validation: '+ str(err))\n",
    "\n",
    "    scores = cross_val_score(clf, valid_x, valid_y, scoring='mean_squared_error', cv=folds)\n",
    "    print('Mean-squared error WITH cross-fold validation: '+ str(np.mean(-scores)))\n"
   ]
  },
  {
   "cell_type": "code",
   "execution_count": 341,
   "metadata": {},
   "outputs": [
    {
     "name": "stdout",
     "output_type": "stream",
     "text": [
      "Mean-squared error WITHOUT cross-fold validation: 201.96184891295042\n",
      "Mean-squared error WITH cross-fold validation: 218.18961199467913\n"
     ]
    }
   ],
   "source": [
    "################################################\n",
    "# LINEAR REGRESSION\n",
    "################################################\n",
    "\n",
    "clf = LinearRegression()\n",
    "\n",
    "clf.fit(train_x, train_y)\n",
    "y_hats = clf.predict(valid_x)\n",
    "errs = []\n",
    "for i in range(len(y_hats)):\n",
    "    errs.append((valid_y.iloc[i]['ARR_DELAY'] - y_hats[i])**2)\n",
    "err = np.mean(errs)\n",
    "print('Mean-squared error WITHOUT cross-fold validation: '+ str(err))\n",
    "\n",
    "# cross-fold validation\n",
    "folds = 10\n",
    "scores = cross_val_score(clf, train_x, train_y, scoring='mean_squared_error', cv=folds)\n",
    "print('Mean-squared error WITH cross-fold validation: '+ str(np.mean(-scores)))"
   ]
  },
  {
   "cell_type": "code",
   "execution_count": 342,
   "metadata": {},
   "outputs": [
    {
     "name": "stdout",
     "output_type": "stream",
     "text": [
      "Mean-squared error WITHOUT cross-fold validation: 263.90628445424477\n",
      "Mean-squared error WITH cross-fold validation: 277.4820022400422\n"
     ]
    }
   ],
   "source": [
    "################################################\n",
    "# LOGISTIC REGRESSION\n",
    "################################################\n",
    "\n",
    "clf = LogisticRegression()\n",
    "\n",
    "clf.fit(train_x, train_y)\n",
    "y_hats = clf.predict(valid_x)\n",
    "errs = []\n",
    "for i in range(len(y_hats)):\n",
    "    errs.append((valid_y.iloc[i]['ARR_DELAY'] - y_hats[i])**2)\n",
    "err = np.mean(errs)\n",
    "print('Mean-squared error WITHOUT cross-fold validation: '+ str(err))\n",
    "\n",
    "# cross-fold validation\n",
    "folds = 10\n",
    "scores = cross_val_score(clf, train_x, train_y, scoring='mean_squared_error', cv=folds)\n",
    "print('Mean-squared error WITH cross-fold validation: '+ str(np.mean(-scores)))"
   ]
  },
  {
   "cell_type": "code",
   "execution_count": 343,
   "metadata": {},
   "outputs": [
    {
     "name": "stdout",
     "output_type": "stream",
     "text": [
      "Mean-squared error WITHOUT cross-fold validation: 244.75447286091108\n",
      "Mean-squared error WITH cross-fold validation: 260.02702517789135\n"
     ]
    }
   ],
   "source": [
    "################################################\n",
    "# MLP - NN\n",
    "################################################\n",
    "\n",
    "hidden_nodes = 500\n",
    "learning_rate = 0.00001\n",
    "print_epoch_info = False\n",
    "clf = MLPRegressor(hidden_layer_sizes=(hidden_nodes,), solver='sgd', alpha=learning_rate,\n",
    "                    activation='logistic', verbose=print_epoch_info)\n",
    "\n",
    "clf.fit(train_x, train_y)\n",
    "y_hats = clf.predict(valid_x)\n",
    "errs = []\n",
    "for i in range(len(y_hats)):\n",
    "    errs.append((valid_y.iloc[i]['ARR_DELAY'] - y_hats[i])**2)\n",
    "err = np.mean(errs)\n",
    "print('Mean-squared error WITHOUT cross-fold validation: '+ str(err))\n",
    "\n",
    "# cross-fold validation\n",
    "folds = 10\n",
    "scores = cross_val_score(clf, train_x, train_y, scoring='mean_squared_error', cv=folds)\n",
    "print('Mean-squared error WITH cross-fold validation: '+ str(np.mean(-scores)))\n"
   ]
  }
 ],
 "metadata": {
  "kernelspec": {
   "display_name": "Python 3",
   "language": "python",
   "name": "python3"
  },
  "language_info": {
   "codemirror_mode": {
    "name": "ipython",
    "version": 3
   },
   "file_extension": ".py",
   "mimetype": "text/x-python",
   "name": "python",
   "nbconvert_exporter": "python",
   "pygments_lexer": "ipython3",
   "version": "3.6.4"
  }
 },
 "nbformat": 4,
 "nbformat_minor": 2
}
